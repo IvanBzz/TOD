{
 "cells": [
  {
   "cell_type": "markdown",
   "metadata": {},
   "source": [
    "# Numpy"
   ]
  },
  {
   "cell_type": "markdown",
   "metadata": {},
   "source": [
    "Материалы:\n",
    "* Макрушин С.В. \"Лекция 1: Библиотека Numpy\"\n",
    "* https://numpy.org/doc/stable/user/index.html\n",
    "* https://numpy.org/doc/stable/reference/index.html"
   ]
  },
  {
   "cell_type": "markdown",
   "metadata": {},
   "source": [
    "## Задачи для совместного разбора"
   ]
  },
  {
   "cell_type": "markdown",
   "metadata": {},
   "source": [
    "1. Сгенерировать двухмерный массив `arr` размерности (4, 7), состоящий из случайных действительных чисел, равномерно распределенных в диапазоне от 0 до 20. Нормализовать значения массива с помощью преобразования вида  $𝑎𝑥+𝑏$  так, что после нормализации максимальный элемент масcива будет равен 1.0, минимальный 0.0"
   ]
  },
  {
   "cell_type": "code",
   "execution_count": 41,
   "metadata": {},
   "outputs": [
    {
     "name": "stdout",
     "output_type": "stream",
     "text": [
      "Исходный массив:\n",
      " [[18.39282995  2.73297384 17.66783539 15.60429211 11.95377421 12.50437732\n",
      "   5.96241353]\n",
      " [ 9.94521591  8.45038211  9.0723141  17.17038542 10.87632512 14.96210944\n",
      "  17.79247485]\n",
      " [ 5.94237864 12.22951388  6.13357699 13.70456044 14.10053136 17.74497612\n",
      "   0.15894613]\n",
      " [ 4.61896809  9.26826181 18.13419133 14.92624273 17.84414822  6.01325137\n",
      "   0.71865804]]\n",
      "\n",
      "Нормализованный массив:\n",
      " [[1.         0.14116728 0.96023916 0.84706836 0.64686318 0.67705988\n",
      "  0.31827928]\n",
      " [0.53670792 0.45472682 0.4888354  0.93295753 0.58777269 0.81184916\n",
      "  0.96707475]\n",
      " [0.31718051 0.66198556 0.32766639 0.74288146 0.76459768 0.96446978\n",
      "  0.        ]\n",
      " [0.24460077 0.49958176 0.98581549 0.80988213 0.96990867 0.32106738\n",
      "  0.03069625]]\n"
     ]
    }
   ],
   "source": [
    "import numpy as np\n",
    "arr=np.random.rand(4,7)*20\n",
    "max_var=np.max(arr)\n",
    "min_var=np.min(arr)\n",
    "a=1.0/(max_var-min_var)\n",
    "b=-min_var*a\n",
    "\n",
    "normalized_arr=a*arr+b\n",
    "print(\"Исходный массив:\\n\", arr)\n",
    "print(\"\\nНормализованный массив:\\n\", normalized_arr)\n",
    "\n",
    "\n"
   ]
  },
  {
   "cell_type": "markdown",
   "metadata": {},
   "source": [
    "2. Создать матрицу 8 на 10 из случайных целых (используя модуль `numpy.random`) чисел из диапозона от 0 до 10 и найти в ней строку (ее индекс и вывести саму строку), в которой сумма значений минимальна."
   ]
  },
  {
   "cell_type": "code",
   "execution_count": 61,
   "metadata": {},
   "outputs": [
    {
     "name": "stdout",
     "output_type": "stream",
     "text": [
      "Минимальная сумма в строке 4: [3 1 1 0 5 9 8 0 2 6]\n"
     ]
    }
   ],
   "source": [
    "import numpy as np\n",
    "matrix=np.round(np.random.rand(8,10)*10).astype(int)\n",
    "\n",
    "min_sum=float('inf')\n",
    "row_index=None\n",
    "for ind in range(matrix.shape[0]):\n",
    "    cur_summ=matrix[ind].sum()\n",
    "    if cur_summ<min_sum:\n",
    "        min_sum=cur_summ\n",
    "        row_index=ind\n",
    "if row_index is not None:\n",
    "    print(f'Минимальная сумма в строке {row_index}:', matrix[row_index])\n",
    "else:\n",
    "    print('Все строки имеют одинаковую минимальную сумму!')"
   ]
  },
  {
   "cell_type": "markdown",
   "metadata": {},
   "source": [
    "3. Найти евклидово расстояние между двумя одномерными векторами одинаковой размерности."
   ]
  },
  {
   "cell_type": "code",
   "execution_count": 71,
   "metadata": {},
   "outputs": [
    {
     "name": "stdout",
     "output_type": "stream",
     "text": [
      "Расстояние между векторами A и B: 5.196152422706632\n"
     ]
    }
   ],
   "source": [
    "import numpy as np\n",
    "def euclid(a,b):\n",
    "    diff = np.subtract(a,b)\n",
    "    return np.linalg.norm(diff)\n",
    "a=np.array([1,2,3])\n",
    "b=np.array([4,5,6])\n",
    "print(f'Расстояние между векторами A и B: {euclid(a,b)}')"
   ]
  },
  {
   "cell_type": "markdown",
   "metadata": {},
   "source": [
    "4. Решить матричное уравнение `A*X*B=-C` - найти матрицу `X`. Где `A = [[-1, 2, 4], [-3, 1, 2], [-3, 0, 1]]`, `B=[[3, -1], [2, 1]]`, `C=[[7, 21], [11, 8], [8, 4]]`."
   ]
  },
  {
   "cell_type": "code",
   "execution_count": 78,
   "metadata": {},
   "outputs": [
    {
     "name": "stdout",
     "output_type": "stream",
     "text": [
      "Матрица X:\n",
      "[[ 1.00000000e+00  1.11022302e-15]\n",
      " [-2.00000000e+00  1.00000000e+00]\n",
      " [ 3.00000000e+00 -4.00000000e+00]]\n",
      "Матрица X:\n",
      "[[ 1.00000000e+00  1.11022302e-15]\n",
      " [-2.00000000e+00  1.00000000e+00]\n",
      " [ 3.00000000e+00 -4.00000000e+00]]\n"
     ]
    }
   ],
   "source": [
    "import numpy as np\n",
    "a=np.array([[-1, 2, 4], [-3, 1, 2], [-3, 0, 1]])\n",
    "b=np.array([[3, -1], [2, 1]])\n",
    "c=np.array([[7, 21], [11, 8], [8, 4]])\n",
    "ainv=np.linalg.inv(a) #обратная матрица а\n",
    "binv=np.linalg.inv(b) #обратная матрица б\n",
    "x=-np.dot(np.dot(ainv,c),binv) #.dot- перемножение матриц\n",
    "print(\"Матрица X:\")\n",
    "print(x)"
   ]
  },
  {
   "cell_type": "markdown",
   "metadata": {},
   "source": [
    "## Лабораторная работа №1"
   ]
  },
  {
   "cell_type": "markdown",
   "metadata": {},
   "source": [
    "Замечание: при решении данных задач не подразумевается использования циклов или генераторов Python, если в задании не сказано обратного. Решение должно опираться на использования функционала библиотеки `numpy`."
   ]
  },
  {
   "cell_type": "markdown",
   "metadata": {},
   "source": [
    "1. Файл `minutes_n_ingredients.csv` содержит информацию об идентификаторе рецепта, времени его выполнения в минутах и количестве необходимых ингредиентов. Считайте данные из этого файла в виде массива `numpy` типа `int32`, используя `np.loadtxt`. Выведите на экран первые 5 строк массива."
   ]
  },
  {
   "cell_type": "code",
   "execution_count": 102,
   "metadata": {},
   "outputs": [
    {
     "name": "stdout",
     "output_type": "stream",
     "text": [
      "[[127244     60     16]\n",
      " [ 23891     25      7]\n",
      " [ 94746     10      6]\n",
      " [ 67660      5      6]\n",
      " [157911     60     14]]\n"
     ]
    }
   ],
   "source": [
    "import numpy as np\n",
    "arr=np.loadtxt('minutes_n_ingredients.csv',delimiter=',',skiprows=1,dtype=np.int32)\n",
    "print(arr[:5])"
   ]
  },
  {
   "cell_type": "markdown",
   "metadata": {},
   "source": [
    "2. Вычислите среднее значение, минимум, максимум и медиану по каждому из столбцов, кроме первого."
   ]
  },
  {
   "cell_type": "code",
   "execution_count": 123,
   "metadata": {},
   "outputs": [
    {
     "name": "stdout",
     "output_type": "stream",
     "text": [
      "Среднее значение по каждому столбцу (кроме первого): [2.16010017e+04 9.05528000e+00]\n",
      "Минимум по каждому столбцу (кроме первого): [0 1]\n",
      "Максимум по каждому столбцу (кроме первого): [2147483647         39]\n",
      "Медиана по каждому столбцу (кроме первого): [2.16010017e+04 9.05528000e+00]\n"
     ]
    }
   ],
   "source": [
    "mean_arr=np.mean(arr[:,1:],axis=0)\n",
    "max_arr=np.max(arr[:,1:],axis=0)\n",
    "min_arr=np.min(arr[:,1:],axis=0)\n",
    "median_arr=np.mean(arr[:,1:],axis=0)\n",
    "print(\"Среднее значение по каждому столбцу (кроме первого):\", mean_arr)\n",
    "print(\"Минимум по каждому столбцу (кроме первого):\", min_arr)\n",
    "print(\"Максимум по каждому столбцу (кроме первого):\", max_arr)\n",
    "print(\"Медиана по каждому столбцу (кроме первого):\", median_arr)"
   ]
  },
  {
   "cell_type": "markdown",
   "metadata": {},
   "source": [
    "3. Ограничьте сверху значения продолжительности выполнения рецепта значением квантиля $q_{0.75}$. "
   ]
  },
  {
   "cell_type": "code",
   "execution_count": 151,
   "metadata": {},
   "outputs": [
    {
     "name": "stdout",
     "output_type": "stream",
     "text": [
      "[[60.]\n",
      " [25.]\n",
      " [10.]\n",
      " ...\n",
      " [65.]\n",
      " [ 5.]\n",
      " [65.]]\n",
      "65.0\n"
     ]
    }
   ],
   "source": [
    "arr=np.loadtxt('minutes_n_ingredients.csv',delimiter=',',skiprows=1,dtype=np.int32)\n",
    "minutes_column=arr[:,1:2]\n",
    "q=0.75\n",
    "block=np.clip(minutes_column,0,np.quantile(minutes_column,q))\n",
    "print(block)\n",
    "\n",
    "check = block.max()\n",
    "print(check)"
   ]
  },
  {
   "cell_type": "markdown",
   "metadata": {},
   "source": [
    "4. Посчитайте, для скольких рецептов указана продолжительность, равная нулю. Замените для таких строк значение в данном столбце на 1."
   ]
  },
  {
   "cell_type": "code",
   "execution_count": 175,
   "metadata": {
    "scrolled": true
   },
   "outputs": [
    {
     "name": "stdout",
     "output_type": "stream",
     "text": [
      "479\n",
      "0 [0] [1]\n"
     ]
    }
   ],
   "source": [
    "arr=np.loadtxt('minutes_n_ingredients.csv',delimiter=',',skiprows=1,dtype=np.int32)\n",
    "minutes_column=arr[:,1:2]\n",
    "print(100000-np.count_nonzero(minutes_column))\n",
    "before_min=np.min(minutes_column,axis=0)\n",
    "minutes_column[minutes_column==0]=1\n",
    "after_min=np.min(minutes_column,axis=0)\n",
    "print(100000-np.count_nonzero(minutes_column),before_min,after_min)\n"
   ]
  },
  {
   "cell_type": "markdown",
   "metadata": {},
   "source": [
    "5. Посчитайте, сколько уникальных рецептов находится в датасете."
   ]
  },
  {
   "cell_type": "code",
   "execution_count": 182,
   "metadata": {},
   "outputs": [
    {
     "name": "stdout",
     "output_type": "stream",
     "text": [
      "100000\n"
     ]
    }
   ],
   "source": [
    "arr=np.loadtxt('minutes_n_ingredients.csv',delimiter=',',skiprows=1,dtype=np.int32)\n",
    "print(np.unique(arr,axis=0).shape[0])"
   ]
  },
  {
   "cell_type": "markdown",
   "metadata": {},
   "source": [
    "6. Сколько и каких различных значений кол-ва ингредиентов присутвует в рецептах из датасета?"
   ]
  },
  {
   "cell_type": "code",
   "execution_count": 188,
   "metadata": {},
   "outputs": [
    {
     "name": "stdout",
     "output_type": "stream",
     "text": [
      "37 [ 1  2  3  4  5  6  7  8  9 10 11 12 13 14 15 16 17 18 19 20 21 22 23 24\n",
      " 25 26 27 28 29 30 31 32 33 34 35 37 39]\n"
     ]
    }
   ],
   "source": [
    "n_ingridients_column=arr[:,2:]\n",
    "\n",
    "different_ingridients=np.unique(n_ingridients_column,axis=0).shape[0]\n",
    "print(different_ingridients,np.unique(n_ingridients_column))"
   ]
  },
  {
   "cell_type": "markdown",
   "metadata": {},
   "source": [
    "7. Создайте версию массива, содержащую информацию только о рецептах, состоящих не более чем из 5 ингредиентов."
   ]
  },
  {
   "cell_type": "code",
   "execution_count": 239,
   "metadata": {},
   "outputs": [
    {
     "name": "stdout",
     "output_type": "stream",
     "text": [
      "[[446597     15      5]\n",
      " [204134      5      3]\n",
      " [ 25623      6      4]\n",
      " ...\n",
      " [ 52088     60      5]\n",
      " [128811     15      4]\n",
      " [370915      5      4]]\n"
     ]
    }
   ],
   "source": [
    "arr=np.loadtxt('minutes_n_ingredients.csv',delimiter=',',skiprows=1,dtype=np.int32)\n",
    "print(arr[arr[:,2]<=5])\n"
   ]
  },
  {
   "cell_type": "markdown",
   "metadata": {},
   "source": [
    "8. Для каждого рецепта посчитайте, сколько в среднем ингредиентов приходится на одну минуту рецепта. Найдите максимальное значение этой величины для всего датасета"
   ]
  },
  {
   "cell_type": "code",
   "execution_count": 268,
   "metadata": {},
   "outputs": [
    {
     "name": "stdout",
     "output_type": "stream",
     "text": [
      "[0.26666667 0.28       0.6        ... 0.23076923 0.8        0.1       ]\n",
      "23.0\n"
     ]
    }
   ],
   "source": [
    "import numpy as np\n",
    "\n",
    "arr = np.loadtxt('minutes_n_ingredients.csv', delimiter=',', skiprows=1, dtype=np.float64)\n",
    "new_array = np.array([])\n",
    "min_column = arr[:, 1:2]\n",
    "ingredients_column = arr[:, 2:]\n",
    "\n",
    "for el in np.arange(min_column.size):\n",
    "    if min_column[el] != 0:\n",
    "        ing_1_min = ingredients_column[el] / min_column[el]\n",
    "        new_array = np.append(new_array, ing_1_min)\n",
    "    else:\n",
    "        new_array = np.append(new_array, 0)  # Заменяем деление на ноль на 0\n",
    "\n",
    "print(new_array)\n",
    "print(np.nanmax(new_array))  # Используем np.nanmax для игнорирования NaN значений\n"
   ]
  },
  {
   "cell_type": "markdown",
   "metadata": {},
   "source": [
    "9. Вычислите среднее количество ингредиентов для топ-100 рецептов с наибольшей продолжительностью"
   ]
  },
  {
   "cell_type": "code",
   "execution_count": null,
   "metadata": {},
   "outputs": [],
   "source": [
    "sorted_array = arr[arr[:,1].argsort()[::-1]]\n",
    "average_n_ing = np.average(sorted_array[:101,2:], axis = 0)\n",
    "print(*average_n_ing)"
   ]
  },
  {
   "cell_type": "markdown",
   "metadata": {},
   "source": [
    "10. Выберите случайным образом и выведите информацию о 10 различных рецептах"
   ]
  },
  {
   "cell_type": "code",
   "execution_count": 241,
   "metadata": {},
   "outputs": [
    {
     "name": "stdout",
     "output_type": "stream",
     "text": [
      "[470970     23      7]\n",
      "[161498     10      6]\n",
      "[67936    75     4]\n",
      "[190428    210     12]\n",
      "[387839      5      2]\n",
      "[137345     65      8]\n",
      "[94042    25     6]\n",
      "[443330     30     15]\n",
      "[182708     45      7]\n",
      "[329240    310      6]\n"
     ]
    }
   ],
   "source": [
    "random_array = np.random.randint(0, 100001, (1, 10))[0]\n",
    "for el in np.arange(random_array.size):\n",
    "    print(arr[random_array[el]])"
   ]
  },
  {
   "cell_type": "markdown",
   "metadata": {},
   "source": [
    "11. Выведите процент рецептов, кол-во ингредиентов в которых меньше среднего."
   ]
  },
  {
   "cell_type": "code",
   "execution_count": 270,
   "metadata": {},
   "outputs": [
    {
     "name": "stdout",
     "output_type": "stream",
     "text": [
      "58.802\n"
     ]
    }
   ],
   "source": [
    "average_n_ing = mean_arr[1]\n",
    "count = 0\n",
    "n_ing = arr[:,2:]\n",
    "\n",
    "for el in np.arange(n_ing.size):\n",
    "    if n_ing[el] < average_n_ing:\n",
    "        count+=1\n",
    "print(((count/n_ing.size)*100)) "
   ]
  },
  {
   "cell_type": "markdown",
   "metadata": {},
   "source": [
    "12. Назовем \"простым\" такой рецепт, длительность выполнения которого не больше 20 минут и кол-во ингредиентов в котором не больше 5. Создайте версию датасета с дополнительным столбцом, значениями которого являются 1, если рецепт простой, и 0 в противном случае."
   ]
  },
  {
   "cell_type": "code",
   "execution_count": null,
   "metadata": {},
   "outputs": [],
   "source": []
  },
  {
   "cell_type": "markdown",
   "metadata": {},
   "source": [
    "13. Выведите процент \"простых\" рецептов в датасете"
   ]
  },
  {
   "cell_type": "code",
   "execution_count": null,
   "metadata": {},
   "outputs": [],
   "source": []
  },
  {
   "cell_type": "markdown",
   "metadata": {},
   "source": [
    "14. Разделим рецепты на группы по следующему правилу. Назовем рецепты короткими, если их продолжительность составляет менее 10 минут; стандартными, если их продолжительность составляет более 10, но менее 20 минут; и длинными, если их продолжительность составляет не менее 20 минут. Создайте трехмерный массив, где нулевая ось отвечает за номер группы (короткий, стандартный или длинный рецепт), первая ось - за сам рецепт и вторая ось - за характеристики рецепта. Выберите максимальное количество рецептов из каждой группы таким образом, чтобы было возможно сформировать трехмерный массив. Выведите форму полученного массива."
   ]
  },
  {
   "cell_type": "code",
   "execution_count": null,
   "metadata": {},
   "outputs": [],
   "source": []
  }
 ],
 "metadata": {
  "kernelspec": {
   "display_name": "Python 3 (ipykernel)",
   "language": "python",
   "name": "python3"
  },
  "language_info": {
   "codemirror_mode": {
    "name": "ipython",
    "version": 3
   },
   "file_extension": ".py",
   "mimetype": "text/x-python",
   "name": "python",
   "nbconvert_exporter": "python",
   "pygments_lexer": "ipython3",
   "version": "3.11.4"
  }
 },
 "nbformat": 4,
 "nbformat_minor": 4
}
